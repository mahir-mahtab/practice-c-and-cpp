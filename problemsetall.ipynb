{
 "cells": [
  {
   "cell_type": "code",
   "execution_count": null,
   "id": "922ed50c-4630-455c-953f-27472243d19f",
   "metadata": {},
   "outputs": [],
   "source": []
  },
  {
   "cell_type": "code",
   "execution_count": 30,
   "id": "aff9683e-f4df-427b-b9ed-d26f6b59012b",
   "metadata": {},
   "outputs": [
    {
     "name": "stdin",
     "output_type": "stream",
     "text": [
      "type    hel\n"
     ]
    },
    {
     "name": "stdout",
     "output_type": "stream",
     "text": [
      "1\n"
     ]
    }
   ],
   "source": [
    "def main():\n",
    "    x=input(\"type   \")\n",
    "    x=x.lower()\n",
    "   \n",
    "    if x.find(\"me\")!=-1:\n",
    "        print(\"1\")\n",
    "    elif x.find(\"h\")==0:\n",
    "        print(\"1\")\n",
    "main()"
   ]
  },
  {
   "cell_type": "code",
   "execution_count": 17,
   "id": "38548bdc-3553-485b-9b14-0d862ddfabda",
   "metadata": {},
   "outputs": [],
   "source": [
    "def convert(x):\n",
    "    emoji={\n",
    "        \":(\":\"smile\",\n",
    "        \":)\":\"sad\"\n",
    "    }\n",
    "    \n",
    "    x=x.replace(\":(\",emoji[\":(\"])\n",
    "    x=x.replace(\":)\",emoji[\":)\"])\n",
    "    return x\n",
    "    "
   ]
  },
  {
   "cell_type": "code",
   "execution_count": 18,
   "id": "6891ca47-1513-47e8-ae83-ca8df92a2467",
   "metadata": {},
   "outputs": [
    {
     "name": "stdin",
     "output_type": "stream",
     "text": [
      "type    i am :(\n"
     ]
    },
    {
     "name": "stdout",
     "output_type": "stream",
     "text": [
      "i am smile\n"
     ]
    }
   ],
   "source": [
    "main()"
   ]
  },
  {
   "cell_type": "code",
   "execution_count": null,
   "id": "5aab362f-51e9-41cb-9fa8-541d7643a973",
   "metadata": {},
   "outputs": [],
   "source": []
  }
 ],
 "metadata": {
  "kernelspec": {
   "display_name": "Python 3 (ipykernel)",
   "language": "python",
   "name": "python3"
  },
  "language_info": {
   "codemirror_mode": {
    "name": "ipython",
    "version": 3
   },
   "file_extension": ".py",
   "mimetype": "text/x-python",
   "name": "python",
   "nbconvert_exporter": "python",
   "pygments_lexer": "ipython3",
   "version": "3.13.1"
  }
 },
 "nbformat": 4,
 "nbformat_minor": 5
}
